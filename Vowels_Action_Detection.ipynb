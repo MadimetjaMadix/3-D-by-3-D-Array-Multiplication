{
  "cells": [
    {
      "cell_type": "markdown",
      "metadata": {
        "id": "DrSbYAlwfRye"
      },
      "source": [
        "## **Import and Install dependencies**"
      ]
    },
    {
      "cell_type": "code",
      "execution_count": null,
      "metadata": {
        "colab": {
          "base_uri": "https://localhost:8080/"
        },
        "id": "hrVoxyyghVIi",
        "outputId": "20566a58-0162-4493-c3f9-cba27a1959c3"
      },
      "outputs": [
        {
          "name": "stdout",
          "output_type": "stream",
          "text": [
            "Mounted at /content/drive\n"
          ]
        }
      ],
      "source": [
        "from google.colab import drive\n",
        "drive.mount('/content/drive')"
      ]
    },
    {
      "cell_type": "code",
      "execution_count": null,
      "metadata": {
        "id": "LoQdgFSPdYoC"
      },
      "outputs": [],
      "source": [
        "!pip install tensorflow==2.4.1 tensorflow-gpu==2.4.1 opencv-python mediapipe sklearn matplotlib"
      ]
    },
    {
      "cell_type": "code",
      "execution_count": null,
      "metadata": {
        "id": "KSxXlXuxfe0q"
      },
      "outputs": [],
      "source": [
        "import cv2\n",
        "import numpy as np\n",
        "import os\n",
        "import time\n",
        "import mediapipe as mp\n",
        "from matplotlib import pyplot as plt"
      ]
    },
    {
      "cell_type": "markdown",
      "metadata": {
        "id": "JKopPSv2gqPo"
      },
      "source": [
        "## Keypoints using MP Holistic\n"
      ]
    },
    {
      "cell_type": "code",
      "execution_count": 32,
      "metadata": {
        "colab": {
          "base_uri": "https://localhost:8080/"
        },
        "id": "uA-dLn1agyii",
        "outputId": "dfff24b8-a55b-484d-c6b3-6231f1a8c975"
      },
      "outputs": [
        {
          "output_type": "stream",
          "name": "stdout",
          "text": [
            "video:  U_16.mp4  has  32 frames\n",
            "video:  U_18.mp4  has  0 frames\n",
            "video:  U_19.mp4  has  0 frames\n",
            "video:  U_20.mp4  has  0 frames\n",
            "video:  U_21.mp4  has  0 frames\n",
            "video:  U_23.mp4  has  0 frames\n",
            "video:  U_22.mp4  has  0 frames\n",
            "video:  U_24.mp4  has  0 frames\n",
            "video:  U_25.mp4  has  0 frames\n"
          ]
        },
        {
          "output_type": "execute_result",
          "data": {
            "text/plain": [
              "70"
            ]
          },
          "metadata": {},
          "execution_count": 32
        }
      ],
      "source": [
        "from google.colab.patches import cv2_imshow\n",
        "list_ = os.listdir('/content/drive/My Drive/SASL_Vowels/A');\n",
        "# vid_path = '/content/drive/My Drive/SASL_Vowels/A/A_9.mp4'\n",
        "\n",
        "vid_frames_count = []\n",
        "src = '/content/drive/My Drive/SASL_Vowels/U'\n",
        "\n",
        "for video_file in os.listdir(src):\n",
        "\n",
        "    vid_path = os.path.join(src,video_file)\n",
        "    cap = cv2.VideoCapture(vid_path)\n",
        "    frames_count = 0\n",
        "    while cap.isOpened():\n",
        "      ret, frame = cap.read()\n",
        "      if not ret:\n",
        "          break\n",
        "      frames_count = frames_count + 1\n",
        "      #cv2_imshow( frame)\n",
        "      cv2.waitKey(1) & 0xff\n",
        "    \n",
        "    if os.path.exists(vid_path) and frames_count < 50:\n",
        "      print('video: ', video_file, ' has ', frames_count, 'frames')\n",
        "      os.remove(vid_path)\n",
        "    else:\n",
        "      vid_frames_count.append(frames_count)\n",
        "\n",
        "    cv2.destroyAllWindows()\n",
        "    cap.release()\n",
        "\n",
        "vid_frames_count\n",
        "len(vid_frames_count)"
      ]
    },
    {
      "cell_type": "code",
      "source": [
        "vid_frames_count"
      ],
      "metadata": {
        "colab": {
          "base_uri": "https://localhost:8080/"
        },
        "id": "w9RnvCPNvcI5",
        "outputId": "7a0ea0d6-babb-423a-bde4-5245c9a8abad"
      },
      "execution_count": 33,
      "outputs": [
        {
          "output_type": "execute_result",
          "data": {
            "text/plain": [
              "[120,\n",
              " 76,\n",
              " 76,\n",
              " 76,\n",
              " 118,\n",
              " 71,\n",
              " 71,\n",
              " 71,\n",
              " 120,\n",
              " 120,\n",
              " 120,\n",
              " 120,\n",
              " 112,\n",
              " 115,\n",
              " 120,\n",
              " 115,\n",
              " 91,\n",
              " 91,\n",
              " 91,\n",
              " 91,\n",
              " 91,\n",
              " 91,\n",
              " 91,\n",
              " 91,\n",
              " 82,\n",
              " 82,\n",
              " 83,\n",
              " 83,\n",
              " 85,\n",
              " 85,\n",
              " 82,\n",
              " 82,\n",
              " 91,\n",
              " 91,\n",
              " 86,\n",
              " 86,\n",
              " 82,\n",
              " 82,\n",
              " 90,\n",
              " 90,\n",
              " 80,\n",
              " 80,\n",
              " 80,\n",
              " 80,\n",
              " 82,\n",
              " 82,\n",
              " 76,\n",
              " 76,\n",
              " 75,\n",
              " 75,\n",
              " 82,\n",
              " 82,\n",
              " 85,\n",
              " 85,\n",
              " 70,\n",
              " 70,\n",
              " 77,\n",
              " 77,\n",
              " 82,\n",
              " 82,\n",
              " 87,\n",
              " 87,\n",
              " 82,\n",
              " 82,\n",
              " 80,\n",
              " 80,\n",
              " 91,\n",
              " 91,\n",
              " 91,\n",
              " 91]"
            ]
          },
          "metadata": {},
          "execution_count": 33
        }
      ]
    }
  ],
  "metadata": {
    "colab": {
      "name": "Vowels Action Detection.ipynb",
      "toc_visible": true,
      "provenance": [],
      "collapsed_sections": [],
      "authorship_tag": "ABX9TyNfnVMNo6g5XkIqwbgjXHnt"
    },
    "kernelspec": {
      "display_name": "Python 3",
      "name": "python3"
    },
    "language_info": {
      "name": "python"
    }
  },
  "nbformat": 4,
  "nbformat_minor": 0
}